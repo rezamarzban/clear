{
  "nbformat": 4,
  "nbformat_minor": 0,
  "metadata": {
    "colab": {
      "provenance": [],
      "authorship_tag": "ABX9TyPL4phvQEz8JqIXSnCCExj7",
      "include_colab_link": true
    },
    "kernelspec": {
      "name": "python3",
      "display_name": "Python 3"
    },
    "language_info": {
      "name": "python"
    }
  },
  "cells": [
    {
      "cell_type": "markdown",
      "metadata": {
        "id": "view-in-github",
        "colab_type": "text"
      },
      "source": [
        "<a href=\"https://colab.research.google.com/github/rezamarzban/clear/blob/main/Clear.ipynb\" target=\"_parent\"><img src=\"https://colab.research.google.com/assets/colab-badge.svg\" alt=\"Open In Colab\"/></a>"
      ]
    },
    {
      "cell_type": "code",
      "execution_count": null,
      "metadata": {
        "id": "AeUIJO1xrScW"
      },
      "outputs": [],
      "source": [
        "# Install Git if it's not already installed\n",
        "!apt-get install git -y\n",
        "\n",
        "# Define author identity\n",
        "USERNAME = \"rezamarzban\"\n",
        "EMAIL = \"rezamarzban1987@gmail.com\"\n",
        "!git config --global user.email '{EMAIL}'\n",
        "!git config --global user.name '{USERNAME}'\n",
        "\n",
        "# Define the repository name and access token\n",
        "REPO_NAME = \"clear\"\n",
        "ACCESS_TOKEN = \"YOUR_ACCESS_TOKEN\"\n",
        "repo_url = f\"https://{ACCESS_TOKEN}@github.com/{USERNAME}/{REPO_NAME}.git\"\n",
        "\n",
        "# Step 1: Clone the Repository\n",
        "!git clone {repo_url}\n",
        "\n",
        "# Change directory to the cloned repository\n",
        "%cd {REPO_NAME}\n",
        "\n",
        "# Step 2: Create a New Orphan Branch\n",
        "!git checkout --orphan temp-branch\n",
        "\n",
        "# Step 3: Add All Files and Commit\n",
        "!git add -A\n",
        "!git commit -m \"Initial commit\"\n",
        "\n",
        "# Step 4: Delete the Old Branch\n",
        "!git branch -D main\n",
        "\n",
        "# Step 5: Rename the New Branch to Main\n",
        "!git branch -m main\n",
        "\n",
        "# Step 6: Force Push the New Main Branch to GitHub\n",
        "!git push -f origin main"
      ]
    }
  ]
}